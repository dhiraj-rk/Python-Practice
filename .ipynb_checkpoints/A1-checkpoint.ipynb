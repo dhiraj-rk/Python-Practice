{
 "cells": [
  {
   "cell_type": "code",
   "execution_count": 1,
   "id": "bb42f299",
   "metadata": {},
   "outputs": [],
   "source": [
    "import pandas as pd\n",
    "import numpy as np\n",
    "import matplotlib.pyplot as plt\n",
    "import requests\n",
    "from io import StringIO\n",
    "from sklearn import svm\n",
    "from sklearn.linear_model import LinearRegression\n",
    "from sklearn.metrics import mean_squared_error\n",
    "from sklearn.model_selection import train_test_split"
   ]
  },
  {
   "cell_type": "markdown",
   "id": "4c72da2f",
   "metadata": {},
   "source": [
    "### 1. "
   ]
  },
  {
   "cell_type": "code",
   "execution_count": null,
   "id": "a06d6aab",
   "metadata": {},
   "outputs": [],
   "source": [
    "#Given URL\n",
    "url=\"https://www.statlearning.com/s/Heart.csv\"\n",
    "response = requests.get(url)"
   ]
  },
  {
   "cell_type": "code",
   "execution_count": null,
   "id": "2269471a",
   "metadata": {},
   "outputs": [],
   "source": [
    "#Get the data from the url in panda dataframe, remove categorical columns and na values\n",
    "data = StringIO(response.text)\n",
    "df = pd.read_csv(data)\n",
    "df = pd.get_dummies(df, columns=['ChestPain'], drop_first=True)\n",
    "non_numeric_columns = df.select_dtypes(exclude=[np.number]).columns\n",
    "df = df.drop(non_numeric_columns, axis=1)\n",
    "df.dropna(inplace=True)\n",
    "print(df)"
   ]
  },
  {
   "cell_type": "code",
   "execution_count": null,
   "id": "ccdcc4cd",
   "metadata": {},
   "outputs": [],
   "source": [
    "#Get the names of the column names\n",
    "col_names = list(df.columns)\n",
    "#Printing the names of the columns\n",
    "print(f'The column names for the Heart.csv data set in a list:: {col_names}.')"
   ]
  },
  {
   "cell_type": "code",
   "execution_count": null,
   "id": "fd6bf861",
   "metadata": {},
   "outputs": [],
   "source": [
    "#Get the 25th row from the dataframe\n",
    "row_obs = df.iloc[24]\n",
    "#Printing the 25th row of the dataframe\n",
    "print(f'The 25th row in the Heart.csv data set in a list:: {row_obs}.')"
   ]
  },
  {
   "cell_type": "markdown",
   "id": "2bf931b2",
   "metadata": {},
   "source": [
    "### 2."
   ]
  },
  {
   "cell_type": "code",
   "execution_count": null,
   "id": "f4d3bb20",
   "metadata": {},
   "outputs": [],
   "source": [
    "#Creating a plot with two subplots\n",
    "fig, (plt1, plt2) = plt.subplots(1, 2, figsize=(12,6))\n",
    "#Plotting AGE against MAXHR\n",
    "plt1.scatter(df['Age'], df['MaxHR'], alpha = 0.5, color='blue')\n",
    "plt1.set_xlabel('AGE')\n",
    "plt1.set_ylabel('MAX HR')\n",
    "plt1.set_title('AGE vs MAX HR')\n",
    "\n",
    "#Plotting AGE against RESTBP\n",
    "plt2.scatter(df['Age'], df['RestBP'], alpha = 0.5, color='red')\n",
    "plt2.set_xlabel('AGE')\n",
    "plt2.set_ylabel('REST BP')\n",
    "plt2.set_title('AGE vs REST BP')\n",
    "\n",
    "plt.tight_layout()"
   ]
  },
  {
   "cell_type": "code",
   "execution_count": null,
   "id": "bb92b5be",
   "metadata": {},
   "outputs": [],
   "source": [
    "#Creating a third standalone plot\n",
    "fig, main_plt = plt.subplots(figsize=(10,6))\n",
    "\n",
    "main_plt.scatter(df['Age'], df['MaxHR'], alpha = 0.5, color = 'blue', label = 'MAX HR')\n",
    "\n",
    "main_plt.scatter(df['Age'], df['RestBP'], alpha = 0.5, color = 'red', label = 'REST BP')\n",
    "\n",
    "main_plt.set_xlabel('Age')\n",
    "main_plt.set_ylabel('MAX HR / REST BP')\n",
    "main_plt.set_title('AGE vs MAX HR and AGE vs REST BP')\n",
    "\n",
    "main_plt.legend()\n",
    "\n",
    "plt.show()\n"
   ]
  },
  {
   "cell_type": "markdown",
   "id": "b46710de",
   "metadata": {},
   "source": [
    "### 3."
   ]
  },
  {
   "cell_type": "code",
   "execution_count": null,
   "id": "5b19b5ae",
   "metadata": {},
   "outputs": [],
   "source": [
    "X = df.drop(['MaxHR'], axis=1)\n",
    "print(X)"
   ]
  },
  {
   "cell_type": "code",
   "execution_count": null,
   "id": "e4b82235",
   "metadata": {},
   "outputs": [],
   "source": [
    "y = df['MaxHR']\n",
    "print(y)"
   ]
  },
  {
   "cell_type": "code",
   "execution_count": null,
   "id": "e60c9387",
   "metadata": {},
   "outputs": [],
   "source": [
    "#Defining test ratios\n",
    "test_ratio = [0.5, 0.25, 0.1]"
   ]
  },
  {
   "cell_type": "code",
   "execution_count": null,
   "id": "b0c42970",
   "metadata": {},
   "outputs": [],
   "source": [
    "for ratio in test_ratio:\n",
    "    X_train, X_test, y_train, y_test = train_test_split(X, y, test_size=ratio, random_state=42)\n",
    "\n",
    "    reg_model = LinearRegression()\n",
    "\n",
    "    reg_model.fit(X_train, y_train)\n",
    "\n",
    "    y_train_predict = reg_model.predict(X_train)\n",
    "    y_test_predict = reg_model.predict(X_test)\n",
    "\n",
    "    MSE_train = mean_squared_error(y_train, y_train_predict)\n",
    "    MSE_test = mean_squared_error(y_test, y_test_predict)\n",
    "\n",
    "    print(f\"Training Error for ratio {ratio: .2f} is {MSE_train: .2f}\")\n",
    "    print(f\"Testing Error for ratio {ratio: .2f} is {MSE_test: .2f}\")"
   ]
  }
 ],
 "metadata": {
  "kernelspec": {
   "display_name": "Python 3 (ipykernel)",
   "language": "python",
   "name": "python3"
  },
  "language_info": {
   "codemirror_mode": {
    "name": "ipython",
    "version": 3
   },
   "file_extension": ".py",
   "mimetype": "text/x-python",
   "name": "python",
   "nbconvert_exporter": "python",
   "pygments_lexer": "ipython3",
   "version": "3.11.4"
  }
 },
 "nbformat": 4,
 "nbformat_minor": 5
}
