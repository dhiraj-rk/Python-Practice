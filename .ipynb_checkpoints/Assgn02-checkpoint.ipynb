{
 "cells": [
  {
   "cell_type": "code",
   "execution_count": null,
   "id": "e8de7f78",
   "metadata": {},
   "outputs": [],
   "source": [
    "#For imports\n",
    "import numpy as np\n",
    "import pandas as pd\n",
    "import matplotlib.pyplot as plt\n",
    "from sklearn.datasets import load_diabetes"
   ]
  },
  {
   "cell_type": "markdown",
   "id": "9763a67a",
   "metadata": {},
   "source": [
    "## Question.1."
   ]
  },
  {
   "cell_type": "markdown",
   "id": "cb2ff6e4",
   "metadata": {},
   "source": [
    "### Question.1.1.Write a python function which takes sample x (as a list) and computes the cumulative means of x. Note that the cumulative means of a sample of size n is a sequence of size n whose i-th entry is the mean of the first i values of x for i = 1, . . . , n."
   ]
  },
  {
   "cell_type": "code",
   "execution_count": null,
   "id": "8fd8ea37",
   "metadata": {},
   "outputs": [],
   "source": [
    "#Function to compute the cumulative mean\n",
    "#Takes input sample x as a list\n",
    "#Gives output cumulative mean \n",
    "def cumulative_mean(x):\n",
    "    cm = []\n",
    "    n = len(x)\n",
    "    cm = [sum(x[0:i:1]) for i in range(0, n + 1)]\n",
    "    return cm[1:]\n",
    "\n",
    "#Test data\n",
    "lst = [1, 5, 9,10]\n",
    "cm_list = cumulative_mean(lst)\n",
    "print(cm_list)"
   ]
  },
  {
   "cell_type": "markdown",
   "id": "1023dd01",
   "metadata": {},
   "source": [
    "### Question.1.2. Generate n = 1000 observations from beta distribution with parameters ($\\alpha$ = 3, $\\beta$ = 5)."
   ]
  },
  {
   "cell_type": "code",
   "execution_count": null,
   "id": "0d6944a8",
   "metadata": {},
   "outputs": [],
   "source": [
    "#Defining n(obs), alpha and beta values\n",
    "n_1 = 1000\n",
    "alpha = 3\n",
    "beta = 5\n",
    "\n",
    "#Generate 1000 observations from beta distribution and rounding off to 3 digits\n",
    "sample = np.random.beta(alpha, beta, n_1).round(3)\n",
    "\n",
    "#Testing by printing few observarions\n",
    "print(sample[:10])"
   ]
  },
  {
   "cell_type": "markdown",
   "id": "5f563f41",
   "metadata": {},
   "source": [
    "### Question.1.3. Apply your function form part 1 to the data generated in part 2 and plot the cumulative means."
   ]
  },
  {
   "cell_type": "code",
   "execution_count": null,
   "id": "a0827c23",
   "metadata": {},
   "outputs": [],
   "source": [
    "#Calling function from Question.1.1. using data from Question.1.2\n",
    "sample_cm = cumulative_mean(sample)\n",
    "print(f\"Cumulative mean of first 10 samples (for checking):\")\n",
    "for i in range(10):\n",
    "    print(f\"{sample_cm[i]:.3f}\")\n",
    "    \n",
    "#Plotting the cumulative mean\n",
    "plt.plot(sample_cm)\n",
    "plt.title(\"Cumulative mean of samples from beta dist with alpha=3 and beta=5\")\n",
    "plt.xlabel(\"Sample size\")\n",
    "plt.ylabel(\"Cumulative mean\")\n",
    "plt.grid(True)\n",
    "plt.show()"
   ]
  },
  {
   "cell_type": "markdown",
   "id": "1b9b9e7e",
   "metadata": {},
   "source": [
    "### Question.1.4. Show the population mean on the plot from part 3."
   ]
  },
  {
   "cell_type": "code",
   "execution_count": null,
   "id": "dfe936c5",
   "metadata": {},
   "outputs": [],
   "source": [
    "#Calculating the population mean\n",
    "mean = alpha / (alpha + beta)\n",
    "print(f\"Population mean:{mean:.3f}\")\n",
    "\n",
    "#Plotting the population mean in the graph\n",
    "plt.plot(sample_cm, label = 'Cumulative mean')\n",
    "plt.axhline(mean, color = 'red', linestyle = '--', label = 'Population Mean' )\n",
    "plt.title(\"Adding population mean to the plot of cumulative means\")\n",
    "plt.xlabel(\"Sample size\")\n",
    "plt.ylabel(\"Cumulative mean\")\n",
    "plt.legend()\n",
    "plt.grid(True)\n",
    "plt.show()\n"
   ]
  },
  {
   "cell_type": "markdown",
   "id": "5d746122",
   "metadata": {},
   "source": [
    "## Question.2. In this question, generate n = 1000 observations from beta distribution (the same as Question 1) and then replicate your results 10 times. In other words, you should keep taking independent samples (10 times) of size 1000 from the beta distribution and compute the cumulative means using your function for each sample. Then plot all 10 sequences on a plot, each sequence with a different color. You should also show again the population mean on your final plot."
   ]
  },
  {
   "cell_type": "code",
   "execution_count": null,
   "id": "732f53b3",
   "metadata": {},
   "outputs": [],
   "source": [
    "#Generating n = 1000 observations and replicating result 10 times\n",
    "rep = 10\n",
    "\n",
    "#Stores all 10 iterations of cumulative means\n",
    "list_cm_list = []\n",
    "\n",
    "for j in range(rep):\n",
    "    sample = np.random.beta(alpha, beta, n_1)\n",
    "    sample_cumean = cumulative_mean(sample)\n",
    "    list_cm_list.append(sample_cumean)\n",
    "    \n",
    "#plotting all 10 iterations\n",
    "for a, seq in enumerate(list_cm_list):\n",
    "    plt.plot(seq, label=f'seq{a+1}')\n",
    "\n",
    "plt.axhline(mean, color = 'red', linestyle = '--', label = 'Population Mean' )\n",
    "plt.title(\"Cumulative means with 10 iterations of sampling from beta dist\")    \n",
    "plt.xlabel(\"Sample size\")\n",
    "plt.ylabel(\"Cumulative mean\")\n",
    "plt.legend()\n",
    "plt.grid(True)\n",
    "plt.show()\n",
    "\n",
    "\n"
   ]
  },
  {
   "cell_type": "markdown",
   "id": "1ffc302d",
   "metadata": {},
   "source": [
    "## Question.3."
   ]
  },
  {
   "cell_type": "markdown",
   "id": "476921c6",
   "metadata": {},
   "source": [
    "### Question.3.1. Write a Python function which takes a list of numbers x and returns a dictionary including \n",
    "### • Min : minimum value of x\n",
    "### • Q_1 : first quartile of x\n",
    "### • M : median of x\n",
    "### • Q_3 : third quartile of x\n",
    "### • Max : maximum value of x\n",
    "### • IQR : Q3 − Q1,\n",
    "### • Outliers : a list of x values which are either smaller than Q1−1.5×IQR or greater than Q3+1.5×IQR."
   ]
  },
  {
   "cell_type": "code",
   "execution_count": null,
   "id": "f6020a31",
   "metadata": {},
   "outputs": [],
   "source": [
    "#Function takes input a list of numbers\n",
    "#Does the calculations listed above\n",
    "#Returns a dictionary datatype\n",
    "\n",
    "def Question_3(x):\n",
    "    \n",
    "    #Sorting the list first\n",
    "    sorted_x = sorted(x)\n",
    "    \n",
    "    #Get length of x\n",
    "    leng = len(sorted_x)\n",
    "    \n",
    "    #Min value of x\n",
    "    min_value = sorted_x[0]\n",
    "    \n",
    "    #First quartile of x: Q1 =  ((n + 1)/4)th Term\n",
    "    term = ((leng + 1) //4)\n",
    "    Q_1 = sorted_x[term]\n",
    "    \n",
    "    #Median of x: middle value when a data set is ordered from least to greatest\n",
    "    if leng % 2 == 1:\n",
    "        median = sorted_x[leng // 2]\n",
    "    else:\n",
    "        val_1 = sorted_x[(leng - 1) // 2]\n",
    "        val_2 = sorted_x[(leng + 1) // 2]\n",
    "        median = (val_1 + val_2) / 2\n",
    "    \n",
    "    #Third Quartile of x: Q3 = (3(n + 1)/4)th Term\n",
    "    Q_3 = sorted_x[3 * term]\n",
    "    \n",
    "    #max value of x\n",
    "    max_value = sorted_x[leng-1]\n",
    "    \n",
    "    #Inter-Quartile Range\n",
    "    IQR = Q_3 - Q_1\n",
    "    \n",
    "    #Outliers with the given formula\n",
    "    lower_limit = Q_1 - 1.5 * IQR\n",
    "    upper_limit = Q_3 + 1.5 * IQR\n",
    "    outliers = []\n",
    "    for val in sorted_x:\n",
    "        if (val < lower_limit or val > upper_limit):\n",
    "            outliers.append(val)\n",
    "    \n",
    "    print(f\"Sorted list:\")\n",
    "    print(sorted_x)\n",
    "    print(f\"Minimum value:{min_value}\")\n",
    "    print(f\"First Quartile:{Q_1}\")\n",
    "    print(f\"Median:{median}\")\n",
    "    print(f\"Third Quartile:{Q_3}\")\n",
    "    print(f\"Maximum value:{max_value}\")\n",
    "    print(f\"Inter Quartile Range:{IQR}\")\n",
    "    print(f\"Outliers:{outliers}\")\n"
   ]
  },
  {
   "cell_type": "markdown",
   "id": "7362f07a",
   "metadata": {},
   "source": [
    "### Question.3.2.Apply your function to x = [2, 36, 12, 14, 204, 21.6, 22.5, 1, 32.8, 32.1, 13, 10, 88, 3.3, 3.1, 88]"
   ]
  },
  {
   "cell_type": "code",
   "execution_count": null,
   "id": "0dee0815",
   "metadata": {},
   "outputs": [],
   "source": [
    "#Calling function Question_3(x)\n",
    "x = [2, 36, 12, 14, 204, 21.6, 22.5, 1, 32.8, 32.1, 13, 10, 88, 3.3, 3.1, 88]\n",
    "Question_3(x)"
   ]
  },
  {
   "cell_type": "markdown",
   "id": "3598defe",
   "metadata": {},
   "source": [
    "## Question.4."
   ]
  },
  {
   "cell_type": "markdown",
   "id": "b4a1df38",
   "metadata": {},
   "source": [
    "### Question.4.2. Write a python function which takes X and y where X is (n × p) and y is your response vector n × 1. The function literately removes the i-th individual and estimate the coefficients your regression based on (n − 1) observations, that is $\\hat{\\beta}^{*}$. The trained coefficients are used to predict the response of the i-th individual by\n",
    "### $\\hat{y}_{i}$ = $x_{i}^{T} * \\hat{\\beta}^{*}$\n",
    "### Your function then repeats the above process for all observations i = 1, . . . , n and computes byi, i = 1, . . . , n in a similar fashion and finally reports the root MSE."
   ]
  },
  {
   "cell_type": "code",
   "execution_count": null,
   "id": "191fce3b",
   "metadata": {},
   "outputs": [],
   "source": [
    "#Python function to compute root(MSE)\n",
    "#Takes input X as (n*p) and y as n*1\n",
    "#Calculates beta_hat, yi_hat and root(MSE) from the given formulae\n",
    "#Returns the value of root(MSE)\n",
    "def leave_one_out(X,y):\n",
    "    #Get the n and p values from n * p design matrix\n",
    "    n, p = X.shape\n",
    "    beta_hat_list = []\n",
    "    yi_hat_list = []\n",
    "    \n",
    "    #beta_hat = (XT * X)^(-1) * XT * y\n",
    "    #yi_hat = xiT * beta_hat*\n",
    "    for i in range(n):\n",
    "        #Removing the ith individual\n",
    "        X_red = np.delete(X, i, axis = 0)\n",
    "        y_red = np.delete(y, i, axis = 0)\n",
    "        \n",
    "        #Getting the transpose\n",
    "        X_red_transpose = X_red.T\n",
    "        \n",
    "        #XTX = np.dot(X_red_transpose, X_red)\n",
    "        XTX = X_red_transpose @ X_red\n",
    "        \n",
    "        #Get the coefficient value\n",
    "        beta_hat = np.linalg.inv(XTX) @ X_red_transpose @ y_red \n",
    "        \n",
    "        #Calculating yi_hat\n",
    "        xi_transpose = X[i].T\n",
    "        yi_hat = xi_transpose @ beta_hat\n",
    "        \n",
    "        #Getting all beta_hat and yi_hat in lists\n",
    "        beta_hat_list.append(beta_hat)\n",
    "        yi_hat_list.append(yi_hat)\n",
    "        \n",
    "    #Calculation of root MSE\n",
    "    root_MSE = np.sqrt(np.sum(y - np.array(yi_hat_list)) ** 2)\n",
    "    return root_MSE\n"
   ]
  },
  {
   "cell_type": "markdown",
   "id": "da5f9009",
   "metadata": {},
   "source": [
    "### Question.4.3. Load the diabetes data from sklearn package in python from sklearn.datasets import load_diabetes diab = load_diabetes() Take a random sample of 56 observations from the data set and compute your X as the first three features of these 56 observations. The target of these observations will be your response vector."
   ]
  },
  {
   "cell_type": "code",
   "execution_count": null,
   "id": "9f1d78f4",
   "metadata": {},
   "outputs": [],
   "source": [
    "# Load the diabetes dataset\n",
    "diab = load_diabetes()\n",
    "X_4 = diab.data\n",
    "y_4 = diab.target\n",
    "\n",
    "# Set a random seed for reproducibility\n",
    "np.random.seed(0)\n",
    "\n",
    "# Take a random sample of 56 observations\n",
    "sample_data = np.random.choice(X_4.shape[0], 56, replace=False)\n",
    "X_4_sample = X_4[sample_data, :3]\n",
    "y_4_sample = y_4[sample_data]\n",
    "\n",
    "print(f\"Values of X:\")\n",
    "print(X_4_sample)\n",
    "print(f\"Values of y:\")\n",
    "print(y_4_sample)"
   ]
  },
  {
   "cell_type": "markdown",
   "id": "6c58005d",
   "metadata": {},
   "source": [
    "### Question.4.4. Apply your function form part 2 to the data set of part 3 and report the root MSE"
   ]
  },
  {
   "cell_type": "code",
   "execution_count": null,
   "id": "714d993a",
   "metadata": {},
   "outputs": [],
   "source": [
    "#Calling function from part 2 with dataset from part 3\n",
    "root_mse = leave_one_out(X_4_sample, y_4_sample)\n",
    "print(f\"Root Mean squared error:{root_mse:.4f}\")"
   ]
  },
  {
   "cell_type": "markdown",
   "id": "c9f34442",
   "metadata": {},
   "source": [
    "## Question.5."
   ]
  },
  {
   "cell_type": "markdown",
   "id": "1a63e8bd",
   "metadata": {},
   "source": [
    "### Question.5.2. Write a python function which takes x and y as two lists and returns the observed test statistic."
   ]
  },
  {
   "cell_type": "code",
   "execution_count": null,
   "id": "d81e0d8a",
   "metadata": {},
   "outputs": [],
   "source": [
    "#Function to calculate test-statistic according to the formula given\n",
    "#Takes input x and y as list\n",
    "#Gives output a value as test-statistic\n",
    "\n",
    "def test_statistic(x, y):\n",
    "    n1 = len(x)\n",
    "    n2 = len(y)\n",
    "    \n",
    "    #Mean of X and Y\n",
    "    mean_x = sum(x) / n1\n",
    "    mean_y = sum(y) / n2\n",
    "    \n",
    "    #calculation of standard error for x denoted by s_1\n",
    "    SSXX = 0.0\n",
    "    for xi in x:\n",
    "        SSXX += (xi - mean_x)**2\n",
    "    #print(SSXX)\n",
    "    s_1 = (1 / (n1 - 1)) * SSXX\n",
    "    #print(s_1)\n",
    "    \n",
    "    #calulation of standard error for y denoted by s_2\n",
    "    SSYY = 0.0\n",
    "    for yi in y:\n",
    "        SSYY += (yi - mean_y)**2\n",
    "    \n",
    "    s_2 = (1 / (n2 - 1)) * SSYY\n",
    "    \n",
    "    #standard error calculation from the formula given\n",
    "    standard_error = (((n1 - 1) * s_1) + ((n2 - 1) * s_2)) / (n1 + n2 - 1)\n",
    "    #print(f\"Standard Error:{standard_error:.4f}\")\n",
    "    \n",
    "    #test statistic formula given\n",
    "    t_val = ((mean_x - mean_y) / ((standard_error * ((1/n1) + (1/n2))))**0.5)\n",
    "    #print(f\"Test Statistic:{t_val:.4f}\")\n",
    "    return t_val\n",
    "    \n",
    "#x_5 = [1,2,3,4,5]\n",
    "#y_5 = [1,2,3,4,5,]\n",
    "#print(test_statistic(x, y))"
   ]
  },
  {
   "cell_type": "markdown",
   "id": "19f88475",
   "metadata": {},
   "source": [
    "### Question.5.3. Generate 50 observations form normal distribution with mean =1 and standard deviation=2 and assign the data to list x. Generate 57 observations from uniform distribution between -2 and 2 and assign data to list y."
   ]
  },
  {
   "cell_type": "code",
   "execution_count": null,
   "id": "3ada6da2",
   "metadata": {
    "scrolled": true
   },
   "outputs": [],
   "source": [
    "#Generating 50 obs from normal dist with mean = 1 and sd = 2\n",
    "x_5 = np.random.normal(1,2,50).round(4)\n",
    "print(f\"Values of x (as np array):\")\n",
    "print(x_5)\n",
    "\n",
    "#Generate 57 observations from uniform dist between -2 and 2\n",
    "y_5 = np.random.uniform(-2,2,57).round(4)\n",
    "print(f\"Values of y (as np array):\")\n",
    "print(y_5)"
   ]
  },
  {
   "cell_type": "markdown",
   "id": "27bed5fc",
   "metadata": {},
   "source": [
    "### Question.5.4. Apply your function and compute the test statistic for the two samples from part 3."
   ]
  },
  {
   "cell_type": "code",
   "execution_count": null,
   "id": "0beaad54",
   "metadata": {},
   "outputs": [],
   "source": [
    "#Calling test_statistic from Question.5.2. and passing the x and y from Question.5.3 as arguments after converting to list\n",
    "print(f\"Test statistic:\")\n",
    "test_statistic(x_5.tolist(), y_5.tolist())"
   ]
  }
 ],
 "metadata": {
  "kernelspec": {
   "display_name": "Python 3 (ipykernel)",
   "language": "python",
   "name": "python3"
  },
  "language_info": {
   "codemirror_mode": {
    "name": "ipython",
    "version": 3
   },
   "file_extension": ".py",
   "mimetype": "text/x-python",
   "name": "python",
   "nbconvert_exporter": "python",
   "pygments_lexer": "ipython3",
   "version": "3.11.4"
  }
 },
 "nbformat": 4,
 "nbformat_minor": 5
}
