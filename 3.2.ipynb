{
 "cells": [
  {
   "cell_type": "markdown",
   "id": "fcde94cc",
   "metadata": {},
   "source": [
    "## Question.3. Question.3. Consider the python list\n",
    "$$x = [3, 8, 13, 18, 108, 21, 23, 17, 11]$$\n",
    "## Write a python function where takes the list and uses only list comprehension and returns the odd values smaller than 23."
   ]
  },
  {
   "cell_type": "code",
   "execution_count": 1,
   "id": "520ee5b6",
   "metadata": {},
   "outputs": [
    {
     "data": {
      "text/plain": [
       "[3, 8, 13, 18, 108, 21, 23, 17, 11]"
      ]
     },
     "execution_count": 1,
     "metadata": {},
     "output_type": "execute_result"
    }
   ],
   "source": [
    "#Defining the list\n",
    "x = [3,8,13,18,108,21,23,17,11]"
   ]
  },
  {
   "cell_type": "code",
   "execution_count": 12,
   "id": "dcb02e1c",
   "metadata": {},
   "outputs": [],
   "source": [
    "def func(x = x):\n",
    "   return [i for i in x if i % 2 != 0 and i < 23]"
   ]
  },
  {
   "cell_type": "code",
   "execution_count": 13,
   "id": "3490488d",
   "metadata": {},
   "outputs": [
    {
     "name": "stdout",
     "output_type": "stream",
     "text": [
      "[3, 13, 21, 17, 11]\n"
     ]
    }
   ],
   "source": [
    "odd_list = func(x)"
   ]
  }
 ],
 "metadata": {
  "kernelspec": {
   "display_name": "Python 3 (ipykernel)",
   "language": "python",
   "name": "python3"
  },
  "language_info": {
   "codemirror_mode": {
    "name": "ipython",
    "version": 3
   },
   "file_extension": ".py",
   "mimetype": "text/x-python",
   "name": "python",
   "nbconvert_exporter": "python",
   "pygments_lexer": "ipython3",
   "version": "3.11.4"
  }
 },
 "nbformat": 4,
 "nbformat_minor": 5
}
