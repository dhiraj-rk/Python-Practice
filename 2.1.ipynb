{
 "cells": [
  {
   "cell_type": "markdown",
   "id": "170d313d",
   "metadata": {},
   "source": [
    "### Question.1.  Load the given EPA fuel economy data set into a pandas dataframe. Write code which removes the non-numeric columns from the data frame. Create a new column named “CityHighwayDiff” which is calculated by taking the difference of the “city08” column and “highway08” column. Plot a histogram of this column."
   ]
  },
  {
   "cell_type": "code",
   "execution_count": null,
   "id": "292fdb6b",
   "metadata": {},
   "outputs": [],
   "source": [
    "#For imports\n",
    "import pandas as pd\n",
    "import matplotlib.pyplot as plt\n",
    "from sklearn.linear_model import LogisticRegression\n",
    "from sklearn.metrics import accuracy_score\n",
    "from sklearn.metrics import mean_absolute_error\n",
    "from sklearn.model_selection import train_test_split"
   ]
  },
  {
   "cell_type": "code",
   "execution_count": null,
   "id": "dd6ebfe3",
   "metadata": {},
   "outputs": [],
   "source": [
    "#Loading the EPA data set into pd.data.frame\n",
    "df = pd.read_csv(\"EPA_dataset.csv\")\n",
    "df.head()"
   ]
  },
  {
   "cell_type": "code",
   "execution_count": null,
   "id": "a44f6f2d",
   "metadata": {},
   "outputs": [],
   "source": [
    "#Remove non-numeric columns\n",
    "df = df._get_numeric_data()\n",
    "\n",
    "#Dropping column \"FuelType2\" as it has all NaN values\n",
    "df = df.drop(columns = \"fuelType2\")\n",
    "\n",
    "print(df)\n",
    "\n",
    "#epa_data = data_numeric.dropna(axis=1, inplace=True)\n",
    "#Another way to remove\n",
    "#numeric_df = df.select_dtypes(include='number')\n",
    "#Sprint(numeric_df)"
   ]
  },
  {
   "cell_type": "code",
   "execution_count": null,
   "id": "f7675310",
   "metadata": {},
   "outputs": [],
   "source": [
    "#Creating a new column \"CityHighwayDiff\"\n",
    "df[\"CityHighwayDiff\"] = df[\"city08\"] - df[\"highway08\"]\n",
    "print(df)"
   ]
  },
  {
   "cell_type": "code",
   "execution_count": null,
   "id": "0d7e8e68",
   "metadata": {},
   "outputs": [],
   "source": [
    "#Plotting CityHighwayDiff\n",
    "plt.hist(df[\"CityHighwayDiff\"], edgecolor=\"k\")\n",
    "plt.xlabel(\"City Highway Difference\")\n",
    "plt.ylabel(\"Frequency\")\n",
    "plt.title(\"Histogram showing City and Highway Difference\")\n",
    "\n",
    "plt.show()"
   ]
  },
  {
   "cell_type": "markdown",
   "id": "ceb45336",
   "metadata": {},
   "source": [
    "### Question.2. Using the EPA fuel economy data set. Consider the “year” column. Create a new column “Decade” from the year column which maps each year into a class based on its decade. Plot a histogram of the Decade column to visualize the occurrences in each of the decades. Remove any other non-numeric columns from the dataframe. With the columns remaining, create a linear classifier that predicts the decade of a particular car based on the rest of the columns. Train the classifier using the entire dataset. Calculate and print the training error of the resulting classifier."
   ]
  },
  {
   "cell_type": "code",
   "execution_count": null,
   "id": "db5534f4",
   "metadata": {},
   "outputs": [],
   "source": [
    "#data_numeric.drop(columns=['Decade'], inplace=True)\n",
    "#print(df)\n",
    "#Function to change years into decade\n",
    "#def change_to_decade(year):\n",
    "    #decade = (year//10 *10)\n",
    "   # print(decade)\n",
    "    \n",
    "#change_to_decade(data_numeric[\"year\"])\n",
    "#Creating \"Decade column\"\n",
    "df[\"Decade\"] = (df[\"year\"] // 10) * 10\n",
    "print(df)"
   ]
  },
  {
   "cell_type": "code",
   "execution_count": null,
   "id": "3a590642",
   "metadata": {},
   "outputs": [],
   "source": [
    "#Plotting the hisogram of \"Decade\" column\n",
    "#plt.figure(figsize=(8, 6))\n",
    "\n",
    "df[\"Decade\"].value_counts().sort_index().plot(kind = \"bar\", edgecolor = \"k\")\n",
    "plt.xlabel('Decade')\n",
    "plt.ylabel('Count')\n",
    "plt.title('Occurrences of Years in Each Decade')\n",
    "plt.show()"
   ]
  },
  {
   "cell_type": "code",
   "execution_count": null,
   "id": "7e0192b5",
   "metadata": {},
   "outputs": [],
   "source": [
    "#Getting X-values and Y-values for linear regression\n",
    "X = df.drop(columns = [\"year\", \"Decade\"])\n",
    "\n",
    "y = df[\"Decade\"]\n",
    "print(X,y)\n"
   ]
  },
  {
   "cell_type": "code",
   "execution_count": null,
   "id": "452b4846",
   "metadata": {},
   "outputs": [],
   "source": [
    "#Creating a logistic regression classifier, predicting y for X-values and getting training error or MSE\n",
    "\n",
    "classifier = LogisticRegression(max_iter = 1000, random_state = 42)\n",
    "classifier.fit(X,y)\n",
    "\n",
    "y_pred = classifier.predict(X)\n",
    "print(f\"Predicted Decade values\")\n",
    "print(y_pred)\n",
    "\n",
    "training_err = 1 - accuracy_score(y, y_pred)\n",
    "\n",
    "print(f\"Accuracy Score: {accuracy_score(y,y_pred)}\")\n",
    "\n",
    "print(f\"Training error for the whole data: {training_err:.2f}\")"
   ]
  },
  {
   "cell_type": "markdown",
   "id": "25b083e3",
   "metadata": {},
   "source": [
    "### Question.3. Split the training set used into a training and test set (split evenly 50:50). Re-fit the linear classifier developed above on the 50% training set and calculate and print the mean absolute error of the predictor using the 50% test set.\n",
    "\n"
   ]
  },
  {
   "cell_type": "code",
   "execution_count": null,
   "id": "f9d2873e",
   "metadata": {
    "scrolled": true
   },
   "outputs": [],
   "source": [
    "#Splitting dataframe 50:50\n",
    "\n",
    "X_train, X_test, y_train, y_test = train_test_split(X, y, test_size = 0.5, random_state=0)\n",
    "\n",
    "classifier_1 = LogisticRegression(max_iter = 1000, random_state = 0)\n",
    "\n",
    "classifier_1.fit(X_train, y_train)\n",
    "\n",
    "y_test_pred = classifier_1.predict(X_test)\n",
    "print(f\"y_test values:\")\n",
    "print(y_test)\n",
    "print(f\"y_test_pred values:\")\n",
    "print(y_test_pred)\n",
    "\n",
    "mae = mean_absolute_error(y_test, y_test_pred)\n",
    "\n",
    "print(f\"Mean Absolute error of predictor using 50% test set: {mae:.2f}\")"
   ]
  },
  {
   "cell_type": "markdown",
   "id": "ed3c7c40",
   "metadata": {},
   "source": [
    "### Question.4. Pick 2 of the numeric columns of the dataframe to eliminate from the table. Re-train the classifier using this new dataset. Compare the testing and training error using the 50/50 split of the missing columns classifier with that containing the full set of columns."
   ]
  },
  {
   "cell_type": "code",
   "execution_count": null,
   "id": "6d21b6f6",
   "metadata": {},
   "outputs": [],
   "source": [
    "#Removing 2 numeric columns: cylinders and CityHighwayDiff\n",
    "df_reduced = df.drop(columns = [\"city08\", \"highway08\"])\n",
    "df_reduced"
   ]
  },
  {
   "cell_type": "code",
   "execution_count": null,
   "id": "449712d1",
   "metadata": {},
   "outputs": [],
   "source": [
    "#Getting the values of X and Y from the reduced dataset\n",
    "X_red = df_reduced.drop(columns = [\"Decade\"])\n",
    "\n",
    "y_red = df_reduced[\"Decade\"]\n",
    "\n",
    "X_red, y_red"
   ]
  },
  {
   "cell_type": "code",
   "execution_count": null,
   "id": "e7890c9f",
   "metadata": {},
   "outputs": [],
   "source": [
    "#Retraining the dataset\n",
    "X_train_red, X_test_red, y_train_red, y_test_red = train_test_split(X_red, y_red, test_size = 0.5, random_state = 0)\n",
    "\n",
    "classifier_2 = LogisticRegression(max_iter = 1000, random_state = 0)\n",
    "\n",
    "classifier_2.fit(X_train_red, y_train_red)\n",
    "\n",
    "y_pred_train_red = classifier_2.predict(X_train_red)\n",
    "y_pred_test_red = classifier_2.predict(X_test_red)\n",
    "\n",
    "print(f\"Predicted values of Y from training set:\")\n",
    "print(y_pred_train_red)\n",
    "print(f\"Predicted values of Y from testing set:\")\n",
    "print(y_pred_test_red)\n",
    "\n",
    "accuracy_full = accuracy_score(y_test, y_pred_test_red)\n",
    "accuracy_red = accuracy_score(y_train, y_pred_train_red)\n",
    "\n",
    "print(f\"Accuracy of the full dataset: {accuracy_full:.2f}\")\n",
    "print(f\"Accuracy of the reduced dataset: {accuracy_red:.2f}\")\n",
    "\n",
    "print(f\"Training error of full dataset: {1 - accuracy_full:.2f}\")\n",
    "print(f\"Training error of full dataset: {1 - accuracy_red:.2f}\")"
   ]
  },
  {
   "cell_type": "code",
   "execution_count": null,
   "id": "8b8c3c49",
   "metadata": {},
   "outputs": [],
   "source": []
  },
  {
   "cell_type": "code",
   "execution_count": null,
   "id": "62bca001",
   "metadata": {},
   "outputs": [],
   "source": []
  }
 ],
 "metadata": {
  "kernelspec": {
   "display_name": "Python 3 (ipykernel)",
   "language": "python",
   "name": "python3"
  },
  "language_info": {
   "codemirror_mode": {
    "name": "ipython",
    "version": 3
   },
   "file_extension": ".py",
   "mimetype": "text/x-python",
   "name": "python",
   "nbconvert_exporter": "python",
   "pygments_lexer": "ipython3",
   "version": "3.11.4"
  }
 },
 "nbformat": 4,
 "nbformat_minor": 5
}
