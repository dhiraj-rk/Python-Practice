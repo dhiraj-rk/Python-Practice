{
 "cells": [
  {
   "cell_type": "code",
   "execution_count": null,
   "id": "bcb567ed",
   "metadata": {},
   "outputs": [],
   "source": [
    "# For imports\n",
    "from collections import Counter\n",
    "import string\n",
    "import pandas as pd\n",
    "import numpy as np\n",
    "import seaborn as sns\n",
    "import matplotlib.pyplot as plt"
   ]
  },
  {
   "cell_type": "markdown",
   "id": "2ce9543c",
   "metadata": {},
   "source": [
    "## Question 1. It is well-known that the writing style of J. D.  Salinger is highly self-conscious and vernacular. The data set `Catcher_in_the_rye.txt` is a sample text randomly selected from Salinger' novel `The Catcher in the Rye`.  "
   ]
  },
  {
   "cell_type": "markdown",
   "id": "07396da3",
   "metadata": {},
   "source": [
    "### 1. Write a python program which computes the number of times each word occurs in the sample text. The output should be reported as a list of tuples.  Each tuple shows two elements where the first one is the word (as a string) and the second element represents the number of times that word occurred. "
   ]
  },
  {
   "cell_type": "code",
   "execution_count": null,
   "id": "9a57c143",
   "metadata": {},
   "outputs": [],
   "source": [
    "with open(\"Cacher_in_the_rye.txt\", 'r') as file:\n",
    "    content = file.read().lower()\n",
    "    # remove punctuation\n",
    "text = content.translate(str.maketrans('','',string.punctuation)).split()\n",
    "    \n",
    "    #count words\n",
    "word_count = Counter(text)\n",
    "    \n",
    "word_tuple = list(word_count.items())\n",
    "\n",
    "for word, count in word_tuple:\n",
    "    print(f'({word}, {count})')"
   ]
  },
  {
   "cell_type": "markdown",
   "id": "64f23d62",
   "metadata": {},
   "source": [
    "## Question 2.Consider again the sample text Catcher_in_the_rye.txt. Write a python program which calculates the average word length from the text."
   ]
  },
  {
   "cell_type": "code",
   "execution_count": null,
   "id": "e43cf506",
   "metadata": {},
   "outputs": [],
   "source": [
    "total_len = 0\n",
    "word_count_2 = 0\n",
    "# calculate length of words\n",
    "for word in text:\n",
    "    total_len += len(word)\n",
    "    word_count_2 += 1\n",
    "\n",
    "print(total_len)\n",
    "print(word_count_2)\n",
    "avg_word_len = total_len / word_count_2\n",
    "\n",
    "print(f\"Average word length:{avg_word_len:.3f}\")\n",
    "#avg_word_len"
   ]
  },
  {
   "cell_type": "markdown",
   "id": "21378734",
   "metadata": {},
   "source": [
    "## Question 3. Consider Occupation.txt data set from your directory."
   ]
  },
  {
   "cell_type": "markdown",
   "id": "3da05f8e",
   "metadata": {},
   "source": [
    "### 1. Use python and import the dataset."
   ]
  },
  {
   "cell_type": "code",
   "execution_count": null,
   "id": "6a896a9c",
   "metadata": {},
   "outputs": [],
   "source": [
    "df_occupation = pd.read_csv(\"Occupation.txt\", delimiter = \"|\")\n",
    "df_occupation"
   ]
  },
  {
   "cell_type": "markdown",
   "id": "5cbe263c",
   "metadata": {},
   "source": [
    "### 2. Write a python script which computes the median of the age variable for each occupation."
   ]
  },
  {
   "cell_type": "code",
   "execution_count": null,
   "id": "d7ace8e5",
   "metadata": {},
   "outputs": [],
   "source": [
    "by_occupation = df_occupation.groupby(\"occupation\")\n",
    "median_age = by_occupation['age'].median()"
   ]
  },
  {
   "cell_type": "markdown",
   "id": "186396d9",
   "metadata": {},
   "source": [
    "### 3. Write a python script which computes the male ratio per occupation and returns them from the most to the least."
   ]
  },
  {
   "cell_type": "code",
   "execution_count": null,
   "id": "d2f5af56",
   "metadata": {},
   "outputs": [],
   "source": []
  },
  {
   "cell_type": "code",
   "execution_count": null,
   "id": "a743914d",
   "metadata": {},
   "outputs": [],
   "source": [
    "# Getting number of male in each occupation\n",
    "male_number = df_occupation[df_occupation['gender'] == \"M\"].groupby('occupation')['gender'].count()\n",
    "print(f\"Number of male in each occupation:\\n {male_number}\")"
   ]
  },
  {
   "cell_type": "code",
   "execution_count": null,
   "id": "35594e9b",
   "metadata": {},
   "outputs": [],
   "source": [
    "# Getting total people in each occupation\n",
    "total_by_gender = df_occupation.groupby('occupation')['gender'].count()\n",
    "total_by_gender\n"
   ]
  },
  {
   "cell_type": "code",
   "execution_count": null,
   "id": "8ef5cc0f",
   "metadata": {},
   "outputs": [],
   "source": [
    "# Male ratio in each occupation\n",
    "male_ratio = (male_number) / total_by_gender\n",
    "male_ratio"
   ]
  },
  {
   "cell_type": "code",
   "execution_count": null,
   "id": "d622d87f",
   "metadata": {},
   "outputs": [],
   "source": [
    "# Sorted male ratio\n",
    "male_ratio.sort_values(ascending = False)"
   ]
  },
  {
   "cell_type": "markdown",
   "id": "2ad53644",
   "metadata": {},
   "source": [
    "### 4. For each occupation, calculate the 90% interval for the mean age."
   ]
  },
  {
   "cell_type": "code",
   "execution_count": null,
   "id": "12da35be",
   "metadata": {},
   "outputs": [],
   "source": [
    "# Dataset sorted by age\n",
    "sorted_by_age = df_occupation.sort_values(by = 'age')\n",
    "sorted_by_age"
   ]
  },
  {
   "cell_type": "code",
   "execution_count": null,
   "id": "57fa1ab7",
   "metadata": {},
   "outputs": [],
   "source": [
    "# Function for getting percentile\n",
    "def percentile_90(x):\n",
    "    return pd.Series(np.percentile(x, [2.5, 97.5]), index=['2.5th Percentile', '97.5th Percentile'])"
   ]
  },
  {
   "cell_type": "code",
   "execution_count": null,
   "id": "03b83dd7",
   "metadata": {},
   "outputs": [],
   "source": [
    "# Group by occupation\n",
    "interval = df_occupation.groupby('occupation')['age'].apply(percentile_90).reset_index()\n",
    "print(interval)"
   ]
  },
  {
   "cell_type": "code",
   "execution_count": null,
   "id": "27129731",
   "metadata": {},
   "outputs": [],
   "source": [
    "def percentile_90(x):\n",
    "    return pd.Series(np.percentile(x, [2.5, 97.5]), index=['2.5th Percentile', '97.5th Percentile'])\n",
    "\n",
    "interval = df_occupation.groupby('occupation')['age'].apply(percentile_90).reset_index()\n",
    "\n",
    "print(interval)"
   ]
  },
  {
   "cell_type": "markdown",
   "id": "69b7a3ad",
   "metadata": {},
   "source": [
    "## Question 4. Consider the $\\alpha$-trimmed standard deviation:\n",
    "\n",
    "$\n",
    "S_\\alpha = \\left( \\frac{1}{N_\\alpha -1} \\sum_{j=[n\\alpha]+1}^{[n(1-\\alpha)]} \n",
    "(X_j - {\\bar T}_\\alpha) \\right)^{1/2}\n",
    "$\n",
    "\n",
    "where ${\\bar T}_\\alpha = \\frac{1}{N_\\alpha -1} \\sum_{j=[n\\alpha]+1}^{[n(1-\\alpha)]} X_j$."
   ]
  },
  {
   "cell_type": "markdown",
   "id": "4b474591",
   "metadata": {},
   "source": [
    "### 1. Write a python function which takes a $x$ and $\\alpha$ and returns the $S_\\alpha$."
   ]
  },
  {
   "cell_type": "code",
   "execution_count": null,
   "id": "3a48b8d9",
   "metadata": {},
   "outputs": [],
   "source": [
    "def alpha(x, alpha):\n",
    "    n = len(x)\n",
    "    lower_limit = int(np.ceil(n * alpha)) + 1\n",
    "    upper_limit = int(np.floor(n * (1 - alpha)))\n",
    "\n",
    "    x_trimmed = np.sort(x)[lower_limit-1:upper_limit]\n",
    "    mean_trimmed = np.mean(x_trimmed)\n",
    "    std_alpha = np.sqrt(np.sum((x_trimmed - mean_trimmed) ** 2) / (upper_limit - lower_limit + 1))\n",
    "\n",
    "    return std_alpha"
   ]
  },
  {
   "cell_type": "markdown",
   "id": "786e197d",
   "metadata": {},
   "source": [
    "### 2. Apply you function to the `age` variable in `Occupation.txt` data. "
   ]
  },
  {
   "cell_type": "code",
   "execution_count": null,
   "id": "523f94ac",
   "metadata": {},
   "outputs": [],
   "source": [
    "ages = df_occupation['age'].values\n",
    "\n",
    "alpha_value = 0.1\n",
    "\n",
    "trimmed_mean = alpha(ages, alpha_value)\n",
    "print(trimmed_mean)"
   ]
  },
  {
   "cell_type": "markdown",
   "id": "b2591fea",
   "metadata": {},
   "source": [
    "## Question 5 Consider the `tips` data set. Write a python script using seaborn library to show:"
   ]
  },
  {
   "cell_type": "code",
   "execution_count": null,
   "id": "f5b7e8fc",
   "metadata": {},
   "outputs": [],
   "source": [
    "tips_data = sns.load_dataset(\"tips\")"
   ]
  },
  {
   "cell_type": "markdown",
   "id": "98674ccb",
   "metadata": {},
   "source": [
    "### A categorical scatter plot that represents the relationship between the `total_bill` and `tip` columns."
   ]
  },
  {
   "cell_type": "code",
   "execution_count": null,
   "id": "bc04b73c",
   "metadata": {},
   "outputs": [],
   "source": [
    "sns.scatterplot(x = \"total_bill\", y = \"tip\", data = tips_data)\n",
    "plt.show()"
   ]
  },
  {
   "cell_type": "markdown",
   "id": "a446b2ea",
   "metadata": {},
   "source": [
    "### Differentiate the points by the day of the week using different colors."
   ]
  },
  {
   "cell_type": "code",
   "execution_count": null,
   "id": "1040b9d6",
   "metadata": {},
   "outputs": [],
   "source": [
    "sns.scatterplot(x='total_bill', y='tip', hue='day', data=tips_data)\n",
    "plt.show()"
   ]
  },
  {
   "cell_type": "markdown",
   "id": "c7bcba70",
   "metadata": {},
   "source": [
    "### Use different marker styles for lunch (Lunch) and dinner (Dinner) times."
   ]
  },
  {
   "cell_type": "code",
   "execution_count": null,
   "id": "1f0c3dfc",
   "metadata": {},
   "outputs": [],
   "source": [
    "sns.scatterplot(x='total_bill', y='tip', hue='day', style='time', data=tips_data, markers={'Lunch': 's', 'Dinner': 'o'})\n",
    "plt.show()"
   ]
  },
  {
   "cell_type": "markdown",
   "id": "873f9704",
   "metadata": {},
   "source": [
    "### Axis labels for the x-axis, y-axis, and title."
   ]
  },
  {
   "cell_type": "code",
   "execution_count": null,
   "id": "b320fc81",
   "metadata": {},
   "outputs": [],
   "source": [
    "sns.scatterplot(x='total_bill', y='tip', hue='day', style='time', data=tips_data, markers={'Lunch': 's', 'Dinner': 'o'})\n",
    "plt.xlabel('Total Bill')\n",
    "plt.ylabel('Tips Amount')\n",
    "plt.title('Categorical Scatter Plot')\n",
    "plt.show()"
   ]
  },
  {
   "cell_type": "markdown",
   "id": "ba31ef5e",
   "metadata": {},
   "source": [
    "### Add a legend that clearly indicates the day of the week."
   ]
  },
  {
   "cell_type": "code",
   "execution_count": null,
   "id": "f76aff10",
   "metadata": {},
   "outputs": [],
   "source": [
    "sns.scatterplot(x='total_bill', y='tip', hue='day', style='time', data=tips_data, markers={'Lunch': 's', 'Dinner': 'o'})\n",
    "plt.xlabel('Total Bill')\n",
    "plt.ylabel('Tips Amount')\n",
    "plt.title('Categorical Scatter Plot')\n",
    "plt.legend(title='Day of the Week')\n",
    "plt.show()"
   ]
  }
 ],
 "metadata": {
  "kernelspec": {
   "display_name": "Python 3 (ipykernel)",
   "language": "python",
   "name": "python3"
  },
  "language_info": {
   "codemirror_mode": {
    "name": "ipython",
    "version": 3
   },
   "file_extension": ".py",
   "mimetype": "text/x-python",
   "name": "python",
   "nbconvert_exporter": "python",
   "pygments_lexer": "ipython3",
   "version": "3.11.4"
  }
 },
 "nbformat": 4,
 "nbformat_minor": 5
}
